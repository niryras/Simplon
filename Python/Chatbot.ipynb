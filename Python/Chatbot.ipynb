{
 "cells": [
  {
   "cell_type": "code",
   "execution_count": null,
   "metadata": {},
   "outputs": [
    {
     "name": "stdout",
     "output_type": "stream",
     "text": [
      "cb:  Pourquoi venez-vous me voir ?\n"
     ]
    }
   ],
   "source": [
    "import random\n",
    "\n",
    "debut = [ \"Comment allez-vous ?\",\"Comment s’est passé votre journée ?\", \"Pourquoi venez-vous me voir ?\"] \n",
    "\n",
    "question = [ \"Pourquoi me posez-vous cette question ?\",\n",
    "            \"Je ne peux malheureusement pas répondre à cette question\",\n",
    "             \"Oseriez-vous poser cette question à un humain ?\"] \n",
    " \n",
    "question_motcible = [ \"Comment va votre {0} ?\", \"Pourquoi pensez-vous en ce oment à votre {0} ?\",\n",
    "           \"La relation avec {0} vous pose-t-elle problème ?\"] \n",
    " \n",
    "vague = [ \"J’entends bien.\", \"Je sens une pointe de regret.\", \"Est-ce une bonne nouvelle ?\",\n",
    "        \"Oui, c’est ça le problème.\",\"Pensez-vous ce que vous dites ?\", \"Hum… Il se peut.\"] \n",
    " \n",
    "\n",
    "print(\"cb: \",debut[j])\n",
    "\n",
    "j = random.randint(0,len(debut)-1) \n",
    "\n",
    "for i in range(12): \n",
    "    phrase = input()\n",
    "    motcible = [\"père\",\"mère\",\"soeur\",\"frère\",\"fille\",\"fils\",\"cousin\",\"cousine\",\n",
    "               \"compagne\", \"copain\",\"copine\", \"maman\", \"papa\",\"ami\", \"amie\"]\n",
    "    found = \"\"\n",
    "\n",
    "    for mot in motcible :\n",
    "        if phrase.find(mot) > 0 :\n",
    "            found = mot \n",
    "    \n",
    "    if len(found) > 0 :\n",
    "        j = random.randint(0,len(question_motcible)-1) \n",
    "        reponse = question_motcible[j] \n",
    "        print(\"cb: \",reponse.format(found)) \n",
    " \n",
    "    else : \n",
    "        if phrase.find(\"?\") > 0 :\n",
    "            j = random.randint(0,len(question)-1) \n",
    "            print(\"cb: \",question[j])\n",
    "        else : \n",
    "            j = random.randint(0,len(vague)-1) \n",
    "            print(\"cb: \",vague[j])"
   ]
  },
  {
   "cell_type": "code",
   "execution_count": null,
   "metadata": {
    "collapsed": true
   },
   "outputs": [],
   "source": []
  },
  {
   "cell_type": "code",
   "execution_count": null,
   "metadata": {},
   "outputs": [],
   "source": []
  }
 ],
 "metadata": {
  "kernelspec": {
   "display_name": "Python 3",
   "language": "python",
   "name": "python3"
  },
  "language_info": {
   "codemirror_mode": {
    "name": "ipython",
    "version": 3
   },
   "file_extension": ".py",
   "mimetype": "text/x-python",
   "name": "python",
   "nbconvert_exporter": "python",
   "pygments_lexer": "ipython3",
   "version": "3.7.6"
  }
 },
 "nbformat": 4,
 "nbformat_minor": 4
}
