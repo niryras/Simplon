

    Fichier
    Édition
    Affichage
    Insérer
    Cellule
    Noyau
    Widgets


nombre=int(input("Entrez un nombre:"))

​

if nombre%2 == 0:

    print ("Ce nombre est pair")

else:

    print ("Ce nombre est impair")

​

Entrez un nombre:5
Ce nombre est impair

a= int(input("Entrez la mesure du premier côté:"))

b= int(input("Entrez la mesure du deuxième côté:"))

c= int(input("Entrez la mesure du troisième côté:"))

if (a**2)==(a**2)+(b**2)or(b**2)==(a**2)+(c**2)or(c**2)==(a**2)+(b**2):

    print ("Ce triangle est rectangle")

​

else :

    print ("Ce triangle n'est pas rectangle")

Entrez la mesure du premier côté:3
Entrez la mesure du deuxième côté:5
Entrez la mesure du troisième côté:4
Ce triangle est rectangle

PrixHT=1

while PrixHT !=0:

    PrixHT=float(input("Entrez le prix Hors Taxe"))  

    PrixTTC=PrixHT*1.2

    print("Le prix TTC est ", PrixTTC)

else:

    print("Fin")

​

Entrez le prix Hors Taxe100
Le prix TTC est  120.0
Entrez le prix Hors Taxe0
Le prix TTC est  0.0
Fin

L1=[2,7,3,1,5,7,1]

L2=[8,5,9,4,1,1,5]

​

L3= set(L1+L2)

print ("L3=",L3)

      

L3= {1, 2, 3, 4, 5, 7, 8, 9}

Liste=[1,2,3,4,3,2,1]

​

if Liste==Liste[::-1]:

    print("La liste est un palindrome")

else :

    print("La liste n'est pas un palindrome")

La liste est un palindrome

​

Liste = ["Nedra", "Souad", "Chourouk"]

random.shuffle(Liste)

for i in range (3): 

    print(i+1,Liste[i])

​

1 Souad
2 Nedra
3 Chourouk

