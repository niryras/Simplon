{
 "cells": [
  {
   "cell_type": "code",
   "execution_count": 1,
   "metadata": {},
   "outputs": [
    {
     "name": "stdout",
     "output_type": "stream",
     "text": [
      "['La', 'Covid']\n"
     ]
    }
   ],
   "source": [
    "#1.Ecrire une fonction hascap(s) qui renvoie tous les mots de la chaîne commençant par une majuscule\n",
    "#Utiliser la fonction ord() pour obtenir le code ASCII des lettres (les lettres majuscules ont un code entre 65 et 90)\n",
    "from re import findall\n",
    "\n",
    "def hascap(s):\n",
    "    motif = '[A-Z][a-z]*'\n",
    "    return print(findall(motif,s))\n",
    "\n",
    "s = \"La Covid est dangereuse\"\n",
    "hascap(s)"
   ]
  },
  {
   "cell_type": "code",
   "execution_count": 2,
   "metadata": {},
   "outputs": [
    {
     "data": {
      "text/plain": [
       "'Si le prix HT est de 20 euros, le prix TTC est donc de 24 euros.'"
      ]
     },
     "execution_count": 2,
     "metadata": {},
     "output_type": "execute_result"
    }
   ],
   "source": [
    "#2. Proposer une fonction inflation(s) qui va doubler la valeur de tous les nombres dans la chaine. \n",
    "#Exemple : \"Le prix est de 27 euros\" devient \"Le prix est de 54 euros\"\n",
    "#Utiliser la fonction enumerate() pour lancer une boucle for (taper dans Google) \n",
    "\n",
    "def inflation(s):\n",
    "    s1=s\n",
    "    L=s.split()\n",
    "    for i,element in enumerate(L):\n",
    "        if element.isnumeric():\n",
    "            nb2=(int(element)*2)\n",
    "            s1=s1.replace(element,str(nb2))\n",
    "    return(s1)\n",
    "\n",
    "inflation(\"Si le prix HT est de 10 euros, le prix TTC est donc de 12 euros.\")"
   ]
  },
  {
   "cell_type": "code",
   "execution_count": 5,
   "metadata": {},
   "outputs": [
    {
     "name": "stdout",
     "output_type": "stream",
     "text": [
      "Onze ans déjà que cela\n",
      "passe vite Vous vous\n",
      "étiez servis simplement\n",
      "de vos armes la mort\n",
      "n‘éblouit pas les yeux\n",
      "des partisans Vous aviez\n",
      "vos portraits sur les\n"
     ]
    }
   ],
   "source": [
    "#3.Proposer une fonction lignes qui à partir d’une longue chaîne s (>100caractères) renvoie une liste de \n",
    "#chaîne de caractères contenant chacun 24 caractères maximum et terminant par un espace.\n",
    "\n",
    "s = \"Onze ans déjà que cela passe vite Vous \"\n",
    "s += \"vous étiez servis simplement de vos armes la \"\n",
    "s += \"mort n‘éblouit pas les yeux des partisans Vous \"\n",
    "s += \"aviez vos portraits sur les murs de nos villes \"\n",
    "\n",
    "def lignes(s, limit):\n",
    "    mots = s.split()\n",
    "    lineSplited = \"\"\n",
    "    lineSplitedLst = []\n",
    "    for m in mots:\n",
    "        if len(lineSplited) + len(m) > limit:\n",
    "            print(lineSplited[:-1])\n",
    "            lineSplitedLst.append(lineSplited[:-1])\n",
    "            lineSplited = m + \" \"\n",
    "        else:\n",
    "            lineSplited += m + \" \"\n",
    "    \n",
    "    lineSplitedLst.append(lineSplited[:-1])\n",
    "\n",
    "lignes(s, 24)"
   ]
  },
  {
   "cell_type": "code",
   "execution_count": 7,
   "metadata": {},
   "outputs": [
    {
     "name": "stdout",
     "output_type": "stream",
     "text": [
      "['2', '6.50']\n"
     ]
    }
   ],
   "source": [
    "#4.Proposer un programme qui renvoie la liste de tout les nombres (ycompris décimaux et négatifs)\n",
    "# d’une chaîne de caractères.A tester sur la chaîne : « Les 2 maquereaux valent 6.50 euros ». \n",
    "\n",
    "from re import findall\n",
    "\n",
    "motif = '[-]?[0-9]+[.]?[0-9]*'\n",
    "s = \"Les 2 maquereaux valent 6.50 euros\" \n",
    "\n",
    "print(findall(motif,s))"
   ]
  },
  {
   "cell_type": "code",
   "execution_count": 8,
   "metadata": {},
   "outputs": [
    {
     "data": {
      "text/plain": [
       "'Les 2 maquereaux valent 6 euros'"
      ]
     },
     "execution_count": 8,
     "metadata": {},
     "output_type": "execute_result"
    }
   ],
   "source": [
    "#5. Proposer une fonction arrondi(s) qui dans la chaîne s troncature tous les nombres décimaux. \n",
    "# On autorise les nombres négatifs.\n",
    "# Pour ce faire, vous avez la possibilité d’utiliser :\n",
    "# des () pour désigner des blocs de données dans l’expression rationnelle.\n",
    "# pour remplacer chacun des blocs l’expression est r’\\1_\\2_’\n",
    "\n",
    "from re import *\n",
    "\n",
    "def arrondi(s):\n",
    "    motif= r\"(-?)([0-9]+)[,.]?[0-9]*\"\n",
    "    return sub(motif, r\"\\1\\2\", s)\n",
    "s = \"Les 2 maquereaux valent 6.50 euros\"\n",
    "\n",
    "arrondi(s)"
   ]
  },
  {
   "cell_type": "code",
   "execution_count": null,
   "metadata": {},
   "outputs": [],
   "source": []
  }
 ],
 "metadata": {
  "kernelspec": {
   "display_name": "Python 3",
   "language": "python",
   "name": "python3"
  },
  "language_info": {
   "codemirror_mode": {
    "name": "ipython",
    "version": 3
   },
   "file_extension": ".py",
   "mimetype": "text/x-python",
   "name": "python",
   "nbconvert_exporter": "python",
   "pygments_lexer": "ipython3",
   "version": "3.7.6"
  }
 },
 "nbformat": 4,
 "nbformat_minor": 4
}
