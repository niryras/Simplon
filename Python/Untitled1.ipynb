{
 "cells": [
  {
   "cell_type": "code",
   "execution_count": 13,
   "metadata": {},
   "outputs": [],
   "source": [
    "import pandas as pd\n"
   ]
  },
  {
   "cell_type": "code",
   "execution_count": 14,
   "metadata": {},
   "outputs": [
    {
     "name": "stdout",
     "output_type": "stream",
     "text": [
      "   Colonne1  Colonne2 Colonne3\n",
      "a       1.1         2      oui\n",
      "b       2.7        10      non\n",
      "c       5.3         9      non\n"
     ]
    }
   ],
   "source": [
    "df=pd.DataFrame({\"Colonne1\":[1.1,2.7,5.3], \"Colonne2\":[2,10,9], \"Colonne3\":[\"oui\",\"non\",\"non\"]},\n",
    "            index=[\"a\",\"b\",\"c\"])\n",
    "print(df)"
   ]
  },
  {
   "cell_type": "code",
   "execution_count": 22,
   "metadata": {
    "scrolled": true
   },
   "outputs": [],
   "source": [
    "nom_colonnes=[\"consomation\",\"cylindres\",\"deplacement\",\n",
    "              \"puissance\",\"poids\",\"acceleration\", \"annee\", \"origine\", \"nom\"]\n",
    "\n",
    "data=pd.read_excel('//home//simplon//Téléchargements//autompg.xlsx', \n",
    "                   index_col=None, header=None, names=nom_colonnes, skiprows=0)"
   ]
  },
  {
   "cell_type": "code",
   "execution_count": 21,
   "metadata": {},
   "outputs": [
    {
     "name": "stdout",
     "output_type": "stream",
     "text": [
      "  consomation  cylindres  deplacement  puissance  poids  acceleration  \\\n",
      "0         mpg  cylindres  déplacement  puissance  poids  accélération   \n",
      "1          18          8          307        130   3504            12   \n",
      "2          15          8          350        165   3693          11.5   \n",
      "3          18          8          318        150   3436            11   \n",
      "4          16          8          304        150   3433            12   \n",
      "\n",
      "             annee  origine                        nom  \n",
      "0  année de modèle  origine          Nom de la voiture  \n",
      "1               70        1  chevrolet chevelle malibu  \n",
      "2               70        1          buick skylark 320  \n",
      "3               70        1         plymouth satellite  \n",
      "4               70        1              amc rebel sst  \n"
     ]
    }
   ],
   "source": [
    "print(data.head())"
   ]
  },
  {
   "cell_type": "code",
   "execution_count": 24,
   "metadata": {},
   "outputs": [
    {
     "name": "stdout",
     "output_type": "stream",
     "text": [
      "(399, 9)\n",
      "399\n",
      "9\n"
     ]
    }
   ],
   "source": [
    "print(data.shape)\n",
    "print(data.shape[0])\n",
    "print(data.shape[1])"
   ]
  },
  {
   "cell_type": "code",
   "execution_count": 25,
   "metadata": {},
   "outputs": [
    {
     "name": "stdout",
     "output_type": "stream",
     "text": [
      "<class 'pandas.core.frame.DataFrame'>\n",
      "RangeIndex: 399 entries, 0 to 398\n",
      "Data columns (total 9 columns):\n",
      " #   Column        Non-Null Count  Dtype \n",
      "---  ------        --------------  ----- \n",
      " 0   consomation   399 non-null    object\n",
      " 1   cylindres     399 non-null    object\n",
      " 2   deplacement   399 non-null    object\n",
      " 3   puissance     393 non-null    object\n",
      " 4   poids         399 non-null    object\n",
      " 5   acceleration  399 non-null    object\n",
      " 6   annee         399 non-null    object\n",
      " 7   origine       399 non-null    object\n",
      " 8   nom           399 non-null    object\n",
      "dtypes: object(9)\n",
      "memory usage: 28.2+ KB\n",
      "None\n"
     ]
    }
   ],
   "source": [
    "print(data.info())"
   ]
  },
  {
   "cell_type": "code",
   "execution_count": null,
   "metadata": {},
   "outputs": [],
   "source": []
  }
 ],
 "metadata": {
  "kernelspec": {
   "display_name": "Python 3",
   "language": "python",
   "name": "python3"
  },
  "language_info": {
   "codemirror_mode": {
    "name": "ipython",
    "version": 3
   },
   "file_extension": ".py",
   "mimetype": "text/x-python",
   "name": "python",
   "nbconvert_exporter": "python",
   "pygments_lexer": "ipython3",
   "version": "3.7.6"
  }
 },
 "nbformat": 4,
 "nbformat_minor": 4
}
